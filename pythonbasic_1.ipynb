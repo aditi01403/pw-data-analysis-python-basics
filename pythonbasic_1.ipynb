{
  "nbformat": 4,
  "nbformat_minor": 0,
  "metadata": {
    "colab": {
      "provenance": []
    },
    "kernelspec": {
      "name": "python3",
      "display_name": "Python 3"
    },
    "language_info": {
      "name": "python"
    }
  },
  "cells": [
    {
      "cell_type": "markdown",
      "source": [
        "Question 1.Explain the key features of Python that make it popular\n",
        "choice of programming\n",
        "\n",
        "\n",
        "\n",
        "Answer- python’s simple and readable syntax makes one of\n",
        "the most beginner friendly programming language and the key features of Python are:\n",
        "\n",
        "\n",
        "\n",
        "- Widely used in the industries\n",
        "\n",
        "\n",
        "\n",
        "- Open source.\n",
        "\n",
        "\n",
        "- Python is an open source language.\n",
        "\n",
        "- A lot of libraries.\n",
        "\n",
        "\n",
        "\n",
        "- Image processing\n",
        "\n",
        "\n",
        "\n",
        "- Databases\n",
        "\n",
        "\n",
        "\n",
        "- Automation\n",
        "\n",
        "\n",
        "Question 2.Describe the role of predefined keywords in Python and provide examples of how they are used in a program\n",
        "\n",
        "Answer-Predefined keywords in Python are reserved words that have specific functions and cannot be used as variable or function names. They control program flow, manage data, and define structures like functions or classes.\n",
        "\n",
        "Key Roles of Predefined Keywords\n",
        "\n",
        "1. Control Flow: Keywords like if, else, for, while help control the logic.\n",
        "\n",
        "\n",
        "2. Data Handling: Keywords like True, False, and, or handle data and conditions.\n",
        "\n",
        "\n",
        "3. Defining Functions: Keywords like def, return, and class define functions and classes.\n",
        "\n",
        "\n",
        "4. Error Handling: Keywords like try, except handle errors.\n",
        "\n",
        "\n",
        "\n",
        "Examples\n",
        "\n",
        "Control flow"
      ],
      "metadata": {
        "id": "cDoZQWqVBBvq"
      }
    },
    {
      "cell_type": "code",
      "source": [
        "\n",
        "age = 22\n",
        "if age < 20:\n",
        "    print(\"You are young.\")\n",
        "else:\n",
        "    print(\"You are an adult.\")"
      ],
      "metadata": {
        "id": "3hDtBjOlEC6a",
        "colab": {
          "base_uri": "https://localhost:8080/"
        },
        "outputId": "ae3b1f56-a2d6-47a5-9f9a-2eb5bd25f562"
      },
      "execution_count": null,
      "outputs": [
        {
          "output_type": "stream",
          "name": "stdout",
          "text": [
            "You are an adult.\n"
          ]
        }
      ]
    },
    {
      "cell_type": "markdown",
      "source": [
        " Loop"
      ],
      "metadata": {
        "id": "rlaE_CxcEFbE"
      }
    },
    {
      "cell_type": "code",
      "source": [
        "\n",
        "for i in range(3):\n",
        "    print(i)"
      ],
      "metadata": {
        "id": "wWe4y8JQEN1z",
        "colab": {
          "base_uri": "https://localhost:8080/"
        },
        "outputId": "544a888e-ac74-46a4-dde7-3fd827c5a033"
      },
      "execution_count": 1,
      "outputs": [
        {
          "output_type": "stream",
          "name": "stdout",
          "text": [
            "0\n",
            "1\n",
            "2\n"
          ]
        }
      ]
    },
    {
      "cell_type": "markdown",
      "source": [
        "Function"
      ],
      "metadata": {
        "id": "DbH_tb2EERHY"
      }
    },
    {
      "cell_type": "code",
      "source": [
        "\n",
        "def greet(name):\n",
        "    return f\"Hello, {name}!\"\n",
        "\n",
        "print(greet(\"RJ\"))"
      ],
      "metadata": {
        "id": "WkZXXncPEWAo",
        "colab": {
          "base_uri": "https://localhost:8080/"
        },
        "outputId": "d6b4d021-3b14-4355-908f-ebb5de419614"
      },
      "execution_count": null,
      "outputs": [
        {
          "output_type": "stream",
          "name": "stdout",
          "text": [
            "Hello, RJ!\n"
          ]
        }
      ]
    },
    {
      "cell_type": "markdown",
      "source": [
        "Error Handling"
      ],
      "metadata": {
        "id": "yP1KFm4sEd25"
      }
    },
    {
      "cell_type": "code",
      "source": [
        "\n",
        "try:\n",
        "    number = int(input(\"Enter a number: \"))\n",
        "except ValueError:\n",
        "    print(\"Invalid input!\")"
      ],
      "metadata": {
        "id": "sV0nW5JlErW_"
      },
      "execution_count": null,
      "outputs": []
    },
    {
      "cell_type": "markdown",
      "source": [
        "Question 3. Compare and contrast view table in mutable objects in Python with example\n",
        "\n",
        "Answer- the object that can be modified is mutable and the object that can't be modified is immutable\n",
        "\n",
        "In Python, objects are classified as mutable or immutable, depending on whether their values can be changed after creation.\n",
        "\n",
        "Mutable Objects\n",
        "\n",
        "Can be modified after creation.\n",
        "\n",
        "Common mutable types: list, dict, set.\n",
        "\n",
        "EXAMPLES-"
      ],
      "metadata": {
        "id": "SQCida0GEuR5"
      }
    },
    {
      "cell_type": "code",
      "source": [
        "\n",
        "my_list = [1, 2, 3]\n",
        "my_list[0] = 10  # Changing an element\n",
        "print(my_list)  # Output: [10, 2, 3]"
      ],
      "metadata": {
        "id": "a_gvDtTVGHjn",
        "colab": {
          "base_uri": "https://localhost:8080/"
        },
        "outputId": "13600292-b33c-4aec-ade6-a491c3fec078"
      },
      "execution_count": null,
      "outputs": [
        {
          "output_type": "stream",
          "name": "stdout",
          "text": [
            "[10, 2, 3]\n"
          ]
        }
      ]
    },
    {
      "cell_type": "markdown",
      "source": [
        "Immutable Objects\n",
        "\n",
        "Cannot be modified after creation.\n",
        "\n",
        "Common immutable types: int, float, str, tuple.\n",
        "\n",
        "EXAMPLE-"
      ],
      "metadata": {
        "id": "J3cGiFqmGLTj"
      }
    },
    {
      "cell_type": "code",
      "source": [
        "\n",
        "my_string = \"Hello\"\n",
        "# my_string[0] = \"h\"  # This would cause an error\n",
        "my_string = \"hello\"  # New string is created instead"
      ],
      "metadata": {
        "id": "rTNVYrJ1G5Sy"
      },
      "execution_count": null,
      "outputs": []
    },
    {
      "cell_type": "markdown",
      "source": [
        "Key Differences\n",
        "\n",
        "1. Mutability: Mutable objects can be changed, while immutable objects cannot.\n",
        "\n",
        "\n",
        "2. Performance: Immutable objects are often faster to access because their value won't change.\n",
        "\n",
        "\n",
        "3. Safety: Immutable objects are safer in concurrent programming, as they can't be modified.\n",
        "\n",
        "\n",
        "\n",
        "In summary, choose mutable objects when you need flexibility and immutable objects for stability and safety.\n",
        "\n",
        "\n",
        "\n",
        "Question4.Discuss the different types of operators in Python and provide examples of how they are used\n",
        "\n",
        "Answer-Python has several types of operators that are used to perform operations on variables and values. Here’s a brief overview:\n",
        "\n",
        "1. Arithmetic Operators\n",
        "\n",
        "Used for basic mathematical operations.\n",
        "\n",
        "+ (Addition): 5 + 3 → 8\n",
        "\n",
        "- (Subtraction): 5 - 3 → 2\n",
        "\n",
        "* (Multiplication): 5 * 3 → 15\n",
        "\n",
        "/ (Division): 5 / 2 → 2.5\n",
        "\n",
        "// (Floor Division): 5 // 2 → 2\n",
        "\n",
        "% (Modulus): 5 % 2 → 1\n",
        "\n",
        "** (Exponentiation): 2 ** 3 → 8\n",
        "\n",
        "\n",
        "EXAMPLE-"
      ],
      "metadata": {
        "id": "u0n8IhOEG_k4"
      }
    },
    {
      "cell_type": "code",
      "source": [
        "\n",
        "x = 10\n",
        "y = 3\n",
        "print(x + y)  # Output: 13\n",
        "print(x ** y) # Output: 1000"
      ],
      "metadata": {
        "id": "2_F3gIhCINYy",
        "colab": {
          "base_uri": "https://localhost:8080/"
        },
        "outputId": "57a4dc79-2b33-46d7-fc0c-0b482e87cabd"
      },
      "execution_count": null,
      "outputs": [
        {
          "output_type": "stream",
          "name": "stdout",
          "text": [
            "13\n",
            "1000\n"
          ]
        }
      ]
    },
    {
      "cell_type": "markdown",
      "source": [
        "2. Comparison Operators\n",
        "\n",
        "Used to compare values and return True or False.\n",
        "\n",
        "== (Equal): 5 == 5 → True\n",
        "\n",
        "!= (Not equal): 5 != 3 → True\n",
        "\n",
        "> (Greater than): 5 > 3 → True\n",
        "\n",
        "< (Less than): 3 < 5 → True\n",
        "\n",
        ">= (Greater than or equal to): 5 >= 5 → True\n",
        "\n",
        "<= (Less than or equal to): 3 <= 5 → True\n",
        "\n",
        "EXAMPLE-"
      ],
      "metadata": {
        "id": "U_GoMv86IPi0"
      }
    },
    {
      "cell_type": "code",
      "source": [
        "\n",
        "a = 10\n",
        "b = 5\n",
        "print(a > b)  # Output: True\n",
        "print(a == b) # Output: False"
      ],
      "metadata": {
        "id": "GKXGjzo_I07q"
      },
      "execution_count": null,
      "outputs": []
    },
    {
      "cell_type": "markdown",
      "source": [
        "3. Logical Operators\n",
        "\n",
        "Used to combine conditional statements.\n",
        "\n",
        "and: True and False → False\n",
        "\n",
        "or: True or False → True\n",
        "\n",
        "not: not True → False\n",
        "\n",
        "\n",
        "EXAMPLE-"
      ],
      "metadata": {
        "id": "9SqtnAV3IjQS"
      }
    },
    {
      "cell_type": "code",
      "source": [
        "\n",
        "x = 5\n",
        "print(x > 3 and x < 10)  # Output: True"
      ],
      "metadata": {
        "id": "tYOUzKypI8X1"
      },
      "execution_count": null,
      "outputs": []
    },
    {
      "cell_type": "markdown",
      "source": [
        "4. Assignment Operators\n",
        "\n",
        "Used to assign values to variables.\n",
        "\n",
        "= (Assign): x = 5\n",
        "\n",
        "+= (Add and assign): x += 3 (Equivalent to x = x + 3)\n",
        "\n",
        "-= (Subtract and assign): x -= 2\n",
        "\n",
        "*= (Multiply and assign): x *= 2\n",
        "\n",
        "/= (Divide and assign): x /= 2\n",
        "\n",
        "EXAMPLE-"
      ],
      "metadata": {
        "id": "xeLRYiy1JADB"
      }
    },
    {
      "cell_type": "code",
      "source": [
        "\n",
        "x = 10\n",
        "x += 5\n",
        "print(x)  # Output: 15"
      ],
      "metadata": {
        "id": "dzlzbBYRJabD"
      },
      "execution_count": null,
      "outputs": []
    },
    {
      "cell_type": "markdown",
      "source": [
        "5. Bitwise Operators\n",
        "\n",
        "Used to perform operations on binary numbers.\n",
        "\n",
        "& (AND): 5 & 3 → 1\n",
        "\n",
        "| (OR): 5 | 3 → 7\n",
        "\n",
        "^ (XOR): 5 ^ 3 → 6\n",
        "\n",
        "~ (NOT): ~5 → -6\n",
        "\n",
        "<< (Left shift): 5 << 1 → 10\n",
        "\n",
        ">>(Right shift): 5 >> 1 → 2\n",
        "\n",
        "EXAMPLE-"
      ],
      "metadata": {
        "id": "mgdkZRWSJeg2"
      }
    },
    {
      "cell_type": "code",
      "source": [
        "\n",
        "a = 5  # Binary: 101\n",
        "b = 3  # Binary: 011\n",
        "print(a & b)  # Output: 1 (Binary: 001)"
      ],
      "metadata": {
        "id": "ZQP7IB1jKIue"
      },
      "execution_count": null,
      "outputs": []
    },
    {
      "cell_type": "markdown",
      "source": [
        "6. Membership Operators\n",
        "\n",
        "Used to check if a value is in a sequence (like a list or string).\n",
        "\n",
        "in: 'a' in 'apple' → True\n",
        "\n",
        "not in: 'x' not in 'apple' → True\n",
        "\n",
        "EXAMPLE-"
      ],
      "metadata": {
        "id": "olYUtot3KKK8"
      }
    },
    {
      "cell_type": "code",
      "source": [
        "\n",
        "fruits = ['apple', 'banana', 'cherry']\n",
        "print('apple' in fruits)  # Output: True"
      ],
      "metadata": {
        "id": "p6ZKXkFXKWq1"
      },
      "execution_count": null,
      "outputs": []
    },
    {
      "cell_type": "markdown",
      "source": [
        "7. Identity Operators\n",
        "\n",
        "Used to compare objects' memory locations.\n",
        "\n",
        "is: x is y → True if x and y are the same object.\n",
        "\n",
        "is not: x is not y → True if x and y are not the same object.\n",
        "\n",
        "EXAMPLE-"
      ],
      "metadata": {
        "id": "4V90PnI_KYVi"
      }
    },
    {
      "cell_type": "code",
      "source": [
        "\n",
        "x = [1, 2, 3]\n",
        "y = x\n",
        "z = [1, 2, 3]\n",
        "print(x is y)  # Output: True\n",
        "print(x is z)  # Output: False"
      ],
      "metadata": {
        "id": "pkuMWwU2Kjth"
      },
      "execution_count": null,
      "outputs": []
    },
    {
      "cell_type": "markdown",
      "source": [
        "These operators are the building blocks for performing various operations in Python programs."
      ],
      "metadata": {
        "id": "qCVJpGbGKmq2"
      }
    },
    {
      "cell_type": "markdown",
      "source": [
        "Question 5. Explain the concept of Type casting in Python with examples\n",
        "\n",
        "Answer-Typecasting in Python is the process of converting one data type into another. It can be done explicitly or implicitly.\n",
        "\n",
        "1. Implicit Typecasting (Automatic)\n",
        "\n",
        "Python automatically converts smaller data types to larger ones to avoid data loss.\n",
        "\n",
        "Example:"
      ],
      "metadata": {
        "id": "-qeKuIJjKtEP"
      }
    },
    {
      "cell_type": "code",
      "source": [
        "\n",
        "x = 10  # int\n",
        "y = 5.5  # float\n",
        "result = x + y  # Python automatically converts x to float\n",
        "print(result)  # Output: 15.5"
      ],
      "metadata": {
        "id": "5_XjLCX5LQkc"
      },
      "execution_count": null,
      "outputs": []
    },
    {
      "cell_type": "markdown",
      "source": [
        "2. Explicit Typecasting (Manual)\n",
        "\n",
        "You can explicitly convert one data type to another using functions like int(), float(), str(), etc.\n",
        "\n",
        "Examples:"
      ],
      "metadata": {
        "id": "1AtxvVqcLUN0"
      }
    },
    {
      "cell_type": "code",
      "source": [
        "\n",
        "x = 3.7\n",
        "print(int(x))  # Output: 3"
      ],
      "metadata": {
        "id": "nQJidtEbLbMK"
      },
      "execution_count": null,
      "outputs": []
    },
    {
      "cell_type": "markdown",
      "source": [
        "float(): Converts an integer or string to a float."
      ],
      "metadata": {
        "id": "bMIjeLU7Lb-Q"
      }
    },
    {
      "cell_type": "code",
      "source": [
        "\n",
        "y = 5\n",
        "print(float(y))  # Output: 5.0"
      ],
      "metadata": {
        "id": "4jXFfQAyLmj2"
      },
      "execution_count": null,
      "outputs": []
    },
    {
      "cell_type": "markdown",
      "source": [
        "str(): Converts any data type to a string."
      ],
      "metadata": {
        "id": "r6gIyJp6LsQe"
      }
    },
    {
      "cell_type": "code",
      "source": [
        "\n",
        "z = 10\n",
        "print(str(z))  # Output: '10'"
      ],
      "metadata": {
        "id": "1LMJt_V4LzDt"
      },
      "execution_count": null,
      "outputs": []
    },
    {
      "cell_type": "markdown",
      "source": [
        "Why Typecasting is Useful:\n",
        "\n",
        "Helps perform operations with different data types.\n",
        "\n",
        "Prevents errors when performing incompatible operations between types.\n",
        "\n",
        "\n",
        "In summary, typecasting ensures compatibility between different data types in Python."
      ],
      "metadata": {
        "id": "-810eLhyL5Gp"
      }
    },
    {
      "cell_type": "markdown",
      "source": [
        "Question 6. How do conditional statement work in Python iilustrate with examples\n",
        "\n",
        "Answer-Conditional statements in Python are used to make decisions in your program. They allow you to execute certain blocks of code based on whether a condition is True or False.\n",
        "\n",
        "Types of Conditional Statements:\n",
        "\n",
        "1. if Statement Executes a block of code if the condition is True.\n",
        "\n",
        "Example:"
      ],
      "metadata": {
        "id": "LAoT2EI9ML9M"
      }
    },
    {
      "cell_type": "code",
      "source": [
        "\n",
        "age = 18\n",
        "if age >= 18:\n",
        "    print(\"You are an adult.\")"
      ],
      "metadata": {
        "id": "TK1UW3FNM4h-"
      },
      "execution_count": null,
      "outputs": []
    },
    {
      "cell_type": "markdown",
      "source": [
        "2. else Statement Executes a block of code if the condition in the if statement is False.\n",
        "\n",
        "Example:"
      ],
      "metadata": {
        "id": "snXiJ5UGM5gY"
      }
    },
    {
      "cell_type": "code",
      "source": [
        "\n",
        "age = 16\n",
        "if age >= 18:\n",
        "    print(\"You are an adult.\")\n",
        "else:\n",
        "    print(\"You are a minor.\")"
      ],
      "metadata": {
        "id": "P59a0mdyM-wi"
      },
      "execution_count": null,
      "outputs": []
    },
    {
      "cell_type": "markdown",
      "source": [
        "3. elif (else if) Statement Checks multiple conditions. If the if condition is False, it checks the elif condition.\n",
        "\n",
        "Example:"
      ],
      "metadata": {
        "id": "SdEnfx1ANAUl"
      }
    },
    {
      "cell_type": "code",
      "source": [
        "\n",
        "age = 20\n",
        "if age < 18:\n",
        "    print(\"You are a minor.\")\n",
        "elif age >= 18 and age <= 25:\n",
        "    print(\"You are a young adult.\")\n",
        "else:\n",
        "    print(\"You are an adult.\")"
      ],
      "metadata": {
        "id": "rbt9bvDcNPJa"
      },
      "execution_count": null,
      "outputs": []
    },
    {
      "cell_type": "markdown",
      "source": [
        "if checks a condition.\n",
        "\n",
        "elif checks another condition if the if condition is False.\n",
        "\n",
        "else is executed when none of the previous conditions are True.\n",
        "\n",
        "\n",
        "These statements help control the flow of your program by running different code depending on specific conditions."
      ],
      "metadata": {
        "id": "U1UNhKCZNQLc"
      }
    },
    {
      "cell_type": "markdown",
      "source": [
        "Question 7. Describe the different types of loops in Python and their use cases with examples\n",
        "\n",
        "Answer-In Python, loops allow you to repeat a block of code multiple times. There are two main types of loops:\n",
        "\n",
        "1. for Loop\n",
        "\n",
        "Used to iterate over a sequence (like a list, tuple, string, or range) and perform an action for each item.\n",
        "\n",
        "Use Case: Iterating over a list of items.\n",
        "\n",
        "Example:"
      ],
      "metadata": {
        "id": "F_KgFeudNx_m"
      }
    },
    {
      "cell_type": "code",
      "source": [
        "\n",
        "fruits = [\"apple\", \"banana\", \"cherry\"]\n",
        "for fruit in fruits:\n",
        "    print(fruit)"
      ],
      "metadata": {
        "id": "9-O0k2p7OzSf"
      },
      "execution_count": null,
      "outputs": []
    },
    {
      "cell_type": "markdown",
      "source": [
        "This will print:"
      ],
      "metadata": {
        "id": "ujOZJOXnO0ZW"
      }
    },
    {
      "cell_type": "code",
      "source": [
        "\n",
        "apple\n",
        "banana\n",
        "cherry"
      ],
      "metadata": {
        "id": "0_CH0YEIO9yW"
      },
      "execution_count": null,
      "outputs": []
    },
    {
      "cell_type": "markdown",
      "source": [
        "You can also use the range() function with for to repeat an action a specific number of times:"
      ],
      "metadata": {
        "id": "PDFi1Me-PAmX"
      }
    },
    {
      "cell_type": "code",
      "source": [
        "\n",
        "for i in range(3):\n",
        "    print(i)"
      ],
      "metadata": {
        "id": "RLZetb8YPV3n"
      },
      "execution_count": null,
      "outputs": []
    },
    {
      "cell_type": "markdown",
      "source": [
        "This will print:"
      ],
      "metadata": {
        "id": "64RknDOuPaGO"
      }
    },
    {
      "cell_type": "code",
      "source": [
        "\n",
        "0\n",
        "1\n",
        "2"
      ],
      "metadata": {
        "id": "bp-jyK7tPdJG"
      },
      "execution_count": null,
      "outputs": []
    },
    {
      "cell_type": "markdown",
      "source": [
        "2. while Loop\n",
        "\n",
        "Repeats as long as a condition is True. It's useful when you don't know how many times the loop will run in advance.\n",
        "\n",
        "Use Case: Repeating actions until a condition is met.\n",
        "\n",
        "Example:"
      ],
      "metadata": {
        "id": "jjDlROdVPd6j"
      }
    },
    {
      "cell_type": "code",
      "source": [
        "\n",
        "count = 0\n",
        "while count < 3:\n",
        "    print(count)\n",
        "    count += 1  # Increase the counter"
      ],
      "metadata": {
        "id": "kYuewMQdPk3G"
      },
      "execution_count": null,
      "outputs": []
    },
    {
      "cell_type": "markdown",
      "source": [
        "This will print:"
      ],
      "metadata": {
        "id": "5J4OJTcrPos1"
      }
    },
    {
      "cell_type": "code",
      "source": [
        "\n",
        "0\n",
        "1\n",
        "2"
      ],
      "metadata": {
        "id": "iz0ILDfKPuoi"
      },
      "execution_count": null,
      "outputs": []
    },
    {
      "cell_type": "markdown",
      "source": [
        "Key Differences:\n",
        "\n",
        "for loop is used when you know the number of iterations (like iterating over a list or range).\n",
        "\n",
        "while loop is used when you want the loop to run until a condition is no longer True.\n",
        "\n",
        "\n",
        "Both loops help in automating repetitive tasks in your programs."
      ],
      "metadata": {
        "id": "xcCnZ8HSPyJl"
      }
    }
  ]
}